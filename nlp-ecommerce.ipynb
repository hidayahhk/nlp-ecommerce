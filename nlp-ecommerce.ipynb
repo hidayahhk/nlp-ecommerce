{
  "nbformat": 4,
  "nbformat_minor": 0,
  "metadata": {
    "colab": {
      "name": "Hidayah Husnul Khotimah_submission.ipynb",
      "provenance": []
    },
    "kernelspec": {
      "name": "python3",
      "display_name": "Python 3"
    },
    "language_info": {
      "name": "python"
    },
    "accelerator": "GPU"
  },
  "cells": [
    {
      "cell_type": "markdown",
      "metadata": {
        "id": "z5IGCtAJuQr7"
      },
      "source": [
        "Name : Hidayah Husnul Khotimah | Username : hidayahhk | Email : hidayahhk@gmail.com"
      ]
    },
    {
      "cell_type": "code",
      "metadata": {
        "id": "SJW9SHKchUda",
        "colab": {
          "base_uri": "https://localhost:8080/"
        },
        "outputId": "ffe140a1-8ed1-46bb-a2ad-0bfbc92c6fb0"
      },
      "source": [
        "from google.colab import drive\n",
        "drive.mount('/content/drive', force_remount=True)"
      ],
      "execution_count": 1,
      "outputs": [
        {
          "output_type": "stream",
          "text": [
            "Mounted at /content/drive\n"
          ],
          "name": "stdout"
        }
      ]
    },
    {
      "cell_type": "code",
      "metadata": {
        "id": "imbu9mFo31-j"
      },
      "source": [
        "!unzip -uq \"/content/drive/My Drive/ecommerce_review.zip\" -d \"/content/drive/My Drive/ecommerce_review\""
      ],
      "execution_count": 2,
      "outputs": []
    },
    {
      "cell_type": "code",
      "metadata": {
        "id": "4LK-bBiq4bHJ"
      },
      "source": [
        "import pandas as pd\n",
        "df = pd.read_csv('/content/drive/My Drive/ecommerce_review/Womens Clothing E-Commerce Reviews.csv')"
      ],
      "execution_count": 1,
      "outputs": []
    },
    {
      "cell_type": "code",
      "metadata": {
        "colab": {
          "base_uri": "https://localhost:8080/",
          "height": 546
        },
        "id": "eFx6mYY25Aed",
        "outputId": "c8a0535f-39ee-4a9a-98ea-e5d3c02e5907"
      },
      "source": [
        "df.head(10)"
      ],
      "execution_count": 2,
      "outputs": [
        {
          "output_type": "execute_result",
          "data": {
            "text/html": [
              "<div>\n",
              "<style scoped>\n",
              "    .dataframe tbody tr th:only-of-type {\n",
              "        vertical-align: middle;\n",
              "    }\n",
              "\n",
              "    .dataframe tbody tr th {\n",
              "        vertical-align: top;\n",
              "    }\n",
              "\n",
              "    .dataframe thead th {\n",
              "        text-align: right;\n",
              "    }\n",
              "</style>\n",
              "<table border=\"1\" class=\"dataframe\">\n",
              "  <thead>\n",
              "    <tr style=\"text-align: right;\">\n",
              "      <th></th>\n",
              "      <th>Unnamed: 0</th>\n",
              "      <th>Clothing ID</th>\n",
              "      <th>Age</th>\n",
              "      <th>Title</th>\n",
              "      <th>Review Text</th>\n",
              "      <th>Rating</th>\n",
              "      <th>Recommended IND</th>\n",
              "      <th>Positive Feedback Count</th>\n",
              "      <th>Division Name</th>\n",
              "      <th>Department Name</th>\n",
              "      <th>Class Name</th>\n",
              "    </tr>\n",
              "  </thead>\n",
              "  <tbody>\n",
              "    <tr>\n",
              "      <th>0</th>\n",
              "      <td>0</td>\n",
              "      <td>767</td>\n",
              "      <td>33</td>\n",
              "      <td>NaN</td>\n",
              "      <td>Absolutely wonderful - silky and sexy and comf...</td>\n",
              "      <td>4</td>\n",
              "      <td>1</td>\n",
              "      <td>0</td>\n",
              "      <td>Initmates</td>\n",
              "      <td>Intimate</td>\n",
              "      <td>Intimates</td>\n",
              "    </tr>\n",
              "    <tr>\n",
              "      <th>1</th>\n",
              "      <td>1</td>\n",
              "      <td>1080</td>\n",
              "      <td>34</td>\n",
              "      <td>NaN</td>\n",
              "      <td>Love this dress!  it's sooo pretty.  i happene...</td>\n",
              "      <td>5</td>\n",
              "      <td>1</td>\n",
              "      <td>4</td>\n",
              "      <td>General</td>\n",
              "      <td>Dresses</td>\n",
              "      <td>Dresses</td>\n",
              "    </tr>\n",
              "    <tr>\n",
              "      <th>2</th>\n",
              "      <td>2</td>\n",
              "      <td>1077</td>\n",
              "      <td>60</td>\n",
              "      <td>Some major design flaws</td>\n",
              "      <td>I had such high hopes for this dress and reall...</td>\n",
              "      <td>3</td>\n",
              "      <td>0</td>\n",
              "      <td>0</td>\n",
              "      <td>General</td>\n",
              "      <td>Dresses</td>\n",
              "      <td>Dresses</td>\n",
              "    </tr>\n",
              "    <tr>\n",
              "      <th>3</th>\n",
              "      <td>3</td>\n",
              "      <td>1049</td>\n",
              "      <td>50</td>\n",
              "      <td>My favorite buy!</td>\n",
              "      <td>I love, love, love this jumpsuit. it's fun, fl...</td>\n",
              "      <td>5</td>\n",
              "      <td>1</td>\n",
              "      <td>0</td>\n",
              "      <td>General Petite</td>\n",
              "      <td>Bottoms</td>\n",
              "      <td>Pants</td>\n",
              "    </tr>\n",
              "    <tr>\n",
              "      <th>4</th>\n",
              "      <td>4</td>\n",
              "      <td>847</td>\n",
              "      <td>47</td>\n",
              "      <td>Flattering shirt</td>\n",
              "      <td>This shirt is very flattering to all due to th...</td>\n",
              "      <td>5</td>\n",
              "      <td>1</td>\n",
              "      <td>6</td>\n",
              "      <td>General</td>\n",
              "      <td>Tops</td>\n",
              "      <td>Blouses</td>\n",
              "    </tr>\n",
              "    <tr>\n",
              "      <th>5</th>\n",
              "      <td>5</td>\n",
              "      <td>1080</td>\n",
              "      <td>49</td>\n",
              "      <td>Not for the very petite</td>\n",
              "      <td>I love tracy reese dresses, but this one is no...</td>\n",
              "      <td>2</td>\n",
              "      <td>0</td>\n",
              "      <td>4</td>\n",
              "      <td>General</td>\n",
              "      <td>Dresses</td>\n",
              "      <td>Dresses</td>\n",
              "    </tr>\n",
              "    <tr>\n",
              "      <th>6</th>\n",
              "      <td>6</td>\n",
              "      <td>858</td>\n",
              "      <td>39</td>\n",
              "      <td>Cagrcoal shimmer fun</td>\n",
              "      <td>I aded this in my basket at hte last mintue to...</td>\n",
              "      <td>5</td>\n",
              "      <td>1</td>\n",
              "      <td>1</td>\n",
              "      <td>General Petite</td>\n",
              "      <td>Tops</td>\n",
              "      <td>Knits</td>\n",
              "    </tr>\n",
              "    <tr>\n",
              "      <th>7</th>\n",
              "      <td>7</td>\n",
              "      <td>858</td>\n",
              "      <td>39</td>\n",
              "      <td>Shimmer, surprisingly goes with lots</td>\n",
              "      <td>I ordered this in carbon for store pick up, an...</td>\n",
              "      <td>4</td>\n",
              "      <td>1</td>\n",
              "      <td>4</td>\n",
              "      <td>General Petite</td>\n",
              "      <td>Tops</td>\n",
              "      <td>Knits</td>\n",
              "    </tr>\n",
              "    <tr>\n",
              "      <th>8</th>\n",
              "      <td>8</td>\n",
              "      <td>1077</td>\n",
              "      <td>24</td>\n",
              "      <td>Flattering</td>\n",
              "      <td>I love this dress. i usually get an xs but it ...</td>\n",
              "      <td>5</td>\n",
              "      <td>1</td>\n",
              "      <td>0</td>\n",
              "      <td>General</td>\n",
              "      <td>Dresses</td>\n",
              "      <td>Dresses</td>\n",
              "    </tr>\n",
              "    <tr>\n",
              "      <th>9</th>\n",
              "      <td>9</td>\n",
              "      <td>1077</td>\n",
              "      <td>34</td>\n",
              "      <td>Such a fun dress!</td>\n",
              "      <td>I'm 5\"5' and 125 lbs. i ordered the s petite t...</td>\n",
              "      <td>5</td>\n",
              "      <td>1</td>\n",
              "      <td>0</td>\n",
              "      <td>General</td>\n",
              "      <td>Dresses</td>\n",
              "      <td>Dresses</td>\n",
              "    </tr>\n",
              "  </tbody>\n",
              "</table>\n",
              "</div>"
            ],
            "text/plain": [
              "   Unnamed: 0  Clothing ID  Age  ...   Division Name Department Name  Class Name\n",
              "0           0          767   33  ...       Initmates        Intimate   Intimates\n",
              "1           1         1080   34  ...         General         Dresses     Dresses\n",
              "2           2         1077   60  ...         General         Dresses     Dresses\n",
              "3           3         1049   50  ...  General Petite         Bottoms       Pants\n",
              "4           4          847   47  ...         General            Tops     Blouses\n",
              "5           5         1080   49  ...         General         Dresses     Dresses\n",
              "6           6          858   39  ...  General Petite            Tops       Knits\n",
              "7           7          858   39  ...  General Petite            Tops       Knits\n",
              "8           8         1077   24  ...         General         Dresses     Dresses\n",
              "9           9         1077   34  ...         General         Dresses     Dresses\n",
              "\n",
              "[10 rows x 11 columns]"
            ]
          },
          "metadata": {
            "tags": []
          },
          "execution_count": 2
        }
      ]
    },
    {
      "cell_type": "code",
      "metadata": {
        "id": "7i9WTtqf6wqz"
      },
      "source": [
        "df.drop(['Unnamed: 0', 'Clothing ID', 'Title', 'Age','Rating', 'Recommended IND', 'Positive Feedback Count', 'Division Name', 'Department Name'], axis = 1, inplace = True)"
      ],
      "execution_count": 3,
      "outputs": []
    },
    {
      "cell_type": "code",
      "metadata": {
        "colab": {
          "base_uri": "https://localhost:8080/",
          "height": 355
        },
        "id": "Lf_SnCGv9NSu",
        "outputId": "e1b6067f-fd78-4553-9b82-67be23d805d7"
      },
      "source": [
        "df.head(10)"
      ],
      "execution_count": 4,
      "outputs": [
        {
          "output_type": "execute_result",
          "data": {
            "text/html": [
              "<div>\n",
              "<style scoped>\n",
              "    .dataframe tbody tr th:only-of-type {\n",
              "        vertical-align: middle;\n",
              "    }\n",
              "\n",
              "    .dataframe tbody tr th {\n",
              "        vertical-align: top;\n",
              "    }\n",
              "\n",
              "    .dataframe thead th {\n",
              "        text-align: right;\n",
              "    }\n",
              "</style>\n",
              "<table border=\"1\" class=\"dataframe\">\n",
              "  <thead>\n",
              "    <tr style=\"text-align: right;\">\n",
              "      <th></th>\n",
              "      <th>Review Text</th>\n",
              "      <th>Class Name</th>\n",
              "    </tr>\n",
              "  </thead>\n",
              "  <tbody>\n",
              "    <tr>\n",
              "      <th>0</th>\n",
              "      <td>Absolutely wonderful - silky and sexy and comf...</td>\n",
              "      <td>Intimates</td>\n",
              "    </tr>\n",
              "    <tr>\n",
              "      <th>1</th>\n",
              "      <td>Love this dress!  it's sooo pretty.  i happene...</td>\n",
              "      <td>Dresses</td>\n",
              "    </tr>\n",
              "    <tr>\n",
              "      <th>2</th>\n",
              "      <td>I had such high hopes for this dress and reall...</td>\n",
              "      <td>Dresses</td>\n",
              "    </tr>\n",
              "    <tr>\n",
              "      <th>3</th>\n",
              "      <td>I love, love, love this jumpsuit. it's fun, fl...</td>\n",
              "      <td>Pants</td>\n",
              "    </tr>\n",
              "    <tr>\n",
              "      <th>4</th>\n",
              "      <td>This shirt is very flattering to all due to th...</td>\n",
              "      <td>Blouses</td>\n",
              "    </tr>\n",
              "    <tr>\n",
              "      <th>5</th>\n",
              "      <td>I love tracy reese dresses, but this one is no...</td>\n",
              "      <td>Dresses</td>\n",
              "    </tr>\n",
              "    <tr>\n",
              "      <th>6</th>\n",
              "      <td>I aded this in my basket at hte last mintue to...</td>\n",
              "      <td>Knits</td>\n",
              "    </tr>\n",
              "    <tr>\n",
              "      <th>7</th>\n",
              "      <td>I ordered this in carbon for store pick up, an...</td>\n",
              "      <td>Knits</td>\n",
              "    </tr>\n",
              "    <tr>\n",
              "      <th>8</th>\n",
              "      <td>I love this dress. i usually get an xs but it ...</td>\n",
              "      <td>Dresses</td>\n",
              "    </tr>\n",
              "    <tr>\n",
              "      <th>9</th>\n",
              "      <td>I'm 5\"5' and 125 lbs. i ordered the s petite t...</td>\n",
              "      <td>Dresses</td>\n",
              "    </tr>\n",
              "  </tbody>\n",
              "</table>\n",
              "</div>"
            ],
            "text/plain": [
              "                                         Review Text Class Name\n",
              "0  Absolutely wonderful - silky and sexy and comf...  Intimates\n",
              "1  Love this dress!  it's sooo pretty.  i happene...    Dresses\n",
              "2  I had such high hopes for this dress and reall...    Dresses\n",
              "3  I love, love, love this jumpsuit. it's fun, fl...      Pants\n",
              "4  This shirt is very flattering to all due to th...    Blouses\n",
              "5  I love tracy reese dresses, but this one is no...    Dresses\n",
              "6  I aded this in my basket at hte last mintue to...      Knits\n",
              "7  I ordered this in carbon for store pick up, an...      Knits\n",
              "8  I love this dress. i usually get an xs but it ...    Dresses\n",
              "9  I'm 5\"5' and 125 lbs. i ordered the s petite t...    Dresses"
            ]
          },
          "metadata": {
            "tags": []
          },
          "execution_count": 4
        }
      ]
    },
    {
      "cell_type": "code",
      "metadata": {
        "colab": {
          "base_uri": "https://localhost:8080/"
        },
        "id": "dL60QydH9V4O",
        "outputId": "f846bd3c-5d7e-46be-a0e7-a3c7554911cf"
      },
      "source": [
        "df.isnull().sum()"
      ],
      "execution_count": 5,
      "outputs": [
        {
          "output_type": "execute_result",
          "data": {
            "text/plain": [
              "Review Text    845\n",
              "Class Name      14\n",
              "dtype: int64"
            ]
          },
          "metadata": {
            "tags": []
          },
          "execution_count": 5
        }
      ]
    },
    {
      "cell_type": "code",
      "metadata": {
        "id": "WanylW7a9cer"
      },
      "source": [
        "df.dropna(subset = ['Class Name'], inplace=True)\n",
        "df.dropna(subset = ['Review Text'], inplace=True)"
      ],
      "execution_count": 6,
      "outputs": []
    },
    {
      "cell_type": "code",
      "metadata": {
        "colab": {
          "base_uri": "https://localhost:8080/"
        },
        "id": "YSzWiJxmrHqh",
        "outputId": "56b267fc-73db-4aed-8013-302fdfb015f8"
      },
      "source": [
        "df.isnull().sum()"
      ],
      "execution_count": 7,
      "outputs": [
        {
          "output_type": "execute_result",
          "data": {
            "text/plain": [
              "Review Text    0\n",
              "Class Name     0\n",
              "dtype: int64"
            ]
          },
          "metadata": {
            "tags": []
          },
          "execution_count": 7
        }
      ]
    },
    {
      "cell_type": "code",
      "metadata": {
        "colab": {
          "base_uri": "https://localhost:8080/"
        },
        "id": "WTGvwgtO9x5L",
        "outputId": "b363de14-a5d6-40f2-d9e9-4032225d35b7"
      },
      "source": [
        "df.shape"
      ],
      "execution_count": 8,
      "outputs": [
        {
          "output_type": "execute_result",
          "data": {
            "text/plain": [
              "(22628, 2)"
            ]
          },
          "metadata": {
            "tags": []
          },
          "execution_count": 8
        }
      ]
    },
    {
      "cell_type": "code",
      "metadata": {
        "colab": {
          "base_uri": "https://localhost:8080/",
          "height": 399
        },
        "id": "rkop3W16f_gs",
        "outputId": "3d3fddc7-703a-4eef-b7d8-b60f36c70445"
      },
      "source": [
        "import seaborn as sns\n",
        "import matplotlib.pyplot as plt\n",
        "\n",
        "plt.figure(figsize = (25, 8))\n",
        "sns.countplot(x = 'Class Name', data = df)\n",
        "plt.xlabel('Class')\n",
        "plt.ylabel('Count')\n",
        "plt.show()"
      ],
      "execution_count": 9,
      "outputs": [
        {
          "output_type": "display_data",
          "data": {
            "image/png": "[encoded data removed]",
            "text/plain": [
              "<Figure size 1800x576 with 1 Axes>"
            ]
          },
          "metadata": {
            "tags": [],
            "needs_background": "light"
          }
        }
      ]
    },
    {
      "cell_type": "code",
      "metadata": {
        "colab": {
          "base_uri": "https://localhost:8080/"
        },
        "id": "vqt0x7MDgHUh",
        "outputId": "38bc33f2-d5f2-4723-9158-a09a0cbdf8e9"
      },
      "source": [
        "df['Class Name'].value_counts()"
      ],
      "execution_count": 10,
      "outputs": [
        {
          "output_type": "execute_result",
          "data": {
            "text/plain": [
              "Dresses           6145\n",
              "Knits             4626\n",
              "Blouses           2983\n",
              "Sweaters          1380\n",
              "Pants             1350\n",
              "Jeans             1104\n",
              "Fine gauge        1059\n",
              "Skirts             903\n",
              "Jackets            683\n",
              "Lounge             669\n",
              "Swim               332\n",
              "Outerwear          319\n",
              "Shorts             304\n",
              "Sleep              214\n",
              "Legwear            158\n",
              "Intimates          147\n",
              "Layering           132\n",
              "Trend              118\n",
              "Chemises             1\n",
              "Casual bottoms       1\n",
              "Name: Class Name, dtype: int64"
            ]
          },
          "metadata": {
            "tags": []
          },
          "execution_count": 10
        }
      ]
    },
    {
      "cell_type": "code",
      "metadata": {
        "id": "P5Up_Um5jKTB"
      },
      "source": [
        "data_majority = df[df['Class Name'] == 'Dresses']\n",
        "\n",
        "data_minority1 = df[df['Class Name'] == 'Knits']\n",
        "bias = data_minority1.shape[0]/data_majority.shape[0]\n",
        "\n",
        "data_minority2 = df[df['Class Name'] == 'Blouses']\n",
        "bias = data_minority2.shape[0]/data_majority.shape[0]\n",
        "\n",
        "data_minority3 = df[df['Class Name'] == 'Sweaters']\n",
        "bias = data_minority3.shape[0]/data_majority.shape[0]\n",
        "\n",
        "data_minority4 = df[df['Class Name'] == 'Pants']\n",
        "bias = data_minority3.shape[0]/data_majority.shape[0]\n",
        "\n",
        "data_minority5 = df[df['Class Name'] == 'Jeans']\n",
        "bias = data_minority3.shape[0]/data_majority.shape[0]\n",
        "\n",
        "data_minority6 = df[df['Class Name'] == 'Fine gauge']\n",
        "bias = data_minority3.shape[0]/data_majority.shape[0]\n",
        "\n",
        "data_minority7 = df[df['Class Name'] == 'Skirts']\n",
        "bias = data_minority3.shape[0]/data_majority.shape[0]\n",
        "\n",
        "data_minority8 = df[df['Class Name'] == 'Jackets']\n",
        "bias = data_minority3.shape[0]/data_majority.shape[0]\n",
        "\n",
        "data_minority9 = df[df['Class Name'] == 'Lounge']\n",
        "bias = data_minority3.shape[0]/data_majority.shape[0]\n",
        "\n",
        "data_minority10 = df[df['Class Name'] == 'Swim']\n",
        "bias = data_minority3.shape[0]/data_majority.shape[0]\n",
        "\n",
        "data_minority11 = df[df['Class Name'] == 'Outerwear']\n",
        "bias = data_minority3.shape[0]/data_majority.shape[0]\n",
        "\n",
        "data_minority12 = df[df['Class Name'] == 'Shorts']\n",
        "bias = data_minority3.shape[0]/data_majority.shape[0]\n",
        "\n",
        "data_minority13 = df[df['Class Name'] == 'Sleep']\n",
        "bias = data_minority3.shape[0]/data_majority.shape[0]\n",
        "\n",
        "data_minority14 = df[df['Class Name'] == 'Legwear']\n",
        "bias = data_minority3.shape[0]/data_majority.shape[0]\n",
        "\n",
        "data_minority15 = df[df['Class Name'] == 'Intimates']\n",
        "bias = data_minority3.shape[0]/data_majority.shape[0]\n",
        "\n",
        "data_minority16 = df[df['Class Name'] == 'Layering']\n",
        "bias = data_minority3.shape[0]/data_majority.shape[0]\n",
        "\n",
        "data_minority17 = df[df['Class Name'] == 'Trend']\n",
        "bias = data_minority3.shape[0]/data_majority.shape[0]"
      ],
      "execution_count": 12,
      "outputs": []
    },
    {
      "cell_type": "code",
      "metadata": {
        "id": "-8v0b_yrkhE_"
      },
      "source": [
        "from sklearn.utils import resample\n",
        "\n",
        "data_minority1_upsampled = resample(data_minority1, replace=True, n_samples= data_majority.shape[0], random_state=123)  \n",
        "data_minority2_upsampled = resample(data_minority2, replace=True, n_samples= data_majority.shape[0], random_state=123)\n",
        "data_minority3_upsampled = resample(data_minority3, replace=True, n_samples= data_majority.shape[0], random_state=123)\n",
        "data_minority4_upsampled = resample(data_minority4, replace=True, n_samples= data_majority.shape[0], random_state=123)\n",
        "data_minority5_upsampled = resample(data_minority5, replace=True, n_samples= data_majority.shape[0], random_state=123)\n",
        "data_minority6_upsampled = resample(data_minority6, replace=True, n_samples= data_majority.shape[0], random_state=123)\n",
        "data_minority7_upsampled = resample(data_minority7, replace=True, n_samples= data_majority.shape[0], random_state=123)\n",
        "data_minority8_upsampled = resample(data_minority8, replace=True, n_samples= data_majority.shape[0], random_state=123)\n",
        "data_minority9_upsampled = resample(data_minority9, replace=True, n_samples= data_majority.shape[0], random_state=123)\n",
        "data_minority10_upsampled = resample(data_minority10, replace=True, n_samples= data_majority.shape[0], random_state=123)\n",
        "data_minority11_upsampled = resample(data_minority11, replace=True, n_samples= data_majority.shape[0], random_state=123)\n",
        "data_minority12_upsampled = resample(data_minority12, replace=True, n_samples= data_majority.shape[0], random_state=123)\n",
        "data_minority13_upsampled = resample(data_minority13, replace=True, n_samples= data_majority.shape[0], random_state=123)\n",
        "data_minority14_upsampled = resample(data_minority14, replace=True, n_samples= data_majority.shape[0], random_state=123)\n",
        "data_minority15_upsampled = resample(data_minority15, replace=True, n_samples= data_majority.shape[0], random_state=123)\n",
        "data_minority16_upsampled = resample(data_minority16, replace=True, n_samples= data_majority.shape[0], random_state=123)\n",
        "data_minority17_upsampled = resample(data_minority17, replace=True, n_samples= data_majority.shape[0], random_state=123)\n",
        "\n",
        "\n",
        "data_upsampled = pd.concat([data_majority, data_minority1_upsampled, data_minority2_upsampled, data_minority3_upsampled, data_minority4_upsampled,\n",
        "                            data_minority5_upsampled, data_minority6_upsampled, data_minority7_upsampled, data_minority8_upsampled, data_minority9_upsampled,\n",
        "                            data_minority10_upsampled, data_minority11_upsampled, data_minority12_upsampled, data_minority13_upsampled, data_minority14_upsampled,\n",
        "                            data_minority15_upsampled, data_minority16_upsampled, data_minority17_upsampled])"
      ],
      "execution_count": 13,
      "outputs": []
    },
    {
      "cell_type": "code",
      "metadata": {
        "colab": {
          "base_uri": "https://localhost:8080/",
          "height": 1000
        },
        "id": "bNSYr9qNAdfn",
        "outputId": "36235372-3f48-4483-889b-d065ad8027b1"
      },
      "source": [
        "category = pd.get_dummies(data_upsampled['Class Name'])\n",
        "df_baru = pd.concat([data_upsampled, category], axis=1)\n",
        "df_baru = df_baru.drop(columns='Class Name')\n",
        "df_baru"
      ],
      "execution_count": 14,
      "outputs": [
        {
          "output_type": "execute_result",
          "data": {
            "text/html": [
              "<div>\n",
              "<style scoped>\n",
              "    .dataframe tbody tr th:only-of-type {\n",
              "        vertical-align: middle;\n",
              "    }\n",
              "\n",
              "    .dataframe tbody tr th {\n",
              "        vertical-align: top;\n",
              "    }\n",
              "\n",
              "    .dataframe thead th {\n",
              "        text-align: right;\n",
              "    }\n",
              "</style>\n",
              "<table border=\"1\" class=\"dataframe\">\n",
              "  <thead>\n",
              "    <tr style=\"text-align: right;\">\n",
              "      <th></th>\n",
              "      <th>Review Text</th>\n",
              "      <th>Blouses</th>\n",
              "      <th>Dresses</th>\n",
              "      <th>Fine gauge</th>\n",
              "      <th>Intimates</th>\n",
              "      <th>Jackets</th>\n",
              "      <th>Jeans</th>\n",
              "      <th>Knits</th>\n",
              "      <th>Layering</th>\n",
              "      <th>Legwear</th>\n",
              "      <th>Lounge</th>\n",
              "      <th>Outerwear</th>\n",
              "      <th>Pants</th>\n",
              "      <th>Shorts</th>\n",
              "      <th>Skirts</th>\n",
              "      <th>Sleep</th>\n",
              "      <th>Sweaters</th>\n",
              "      <th>Swim</th>\n",
              "      <th>Trend</th>\n",
              "    </tr>\n",
              "  </thead>\n",
              "  <tbody>\n",
              "    <tr>\n",
              "      <th>1</th>\n",
              "      <td>Love this dress!  it's sooo pretty.  i happene...</td>\n",
              "      <td>0</td>\n",
              "      <td>1</td>\n",
              "      <td>0</td>\n",
              "      <td>0</td>\n",
              "      <td>0</td>\n",
              "      <td>0</td>\n",
              "      <td>0</td>\n",
              "      <td>0</td>\n",
              "      <td>0</td>\n",
              "      <td>0</td>\n",
              "      <td>0</td>\n",
              "      <td>0</td>\n",
              "      <td>0</td>\n",
              "      <td>0</td>\n",
              "      <td>0</td>\n",
              "      <td>0</td>\n",
              "      <td>0</td>\n",
              "      <td>0</td>\n",
              "    </tr>\n",
              "    <tr>\n",
              "      <th>2</th>\n",
              "      <td>I had such high hopes for this dress and reall...</td>\n",
              "      <td>0</td>\n",
              "      <td>1</td>\n",
              "      <td>0</td>\n",
              "      <td>0</td>\n",
              "      <td>0</td>\n",
              "      <td>0</td>\n",
              "      <td>0</td>\n",
              "      <td>0</td>\n",
              "      <td>0</td>\n",
              "      <td>0</td>\n",
              "      <td>0</td>\n",
              "      <td>0</td>\n",
              "      <td>0</td>\n",
              "      <td>0</td>\n",
              "      <td>0</td>\n",
              "      <td>0</td>\n",
              "      <td>0</td>\n",
              "      <td>0</td>\n",
              "    </tr>\n",
              "    <tr>\n",
              "      <th>5</th>\n",
              "      <td>I love tracy reese dresses, but this one is no...</td>\n",
              "      <td>0</td>\n",
              "      <td>1</td>\n",
              "      <td>0</td>\n",
              "      <td>0</td>\n",
              "      <td>0</td>\n",
              "      <td>0</td>\n",
              "      <td>0</td>\n",
              "      <td>0</td>\n",
              "      <td>0</td>\n",
              "      <td>0</td>\n",
              "      <td>0</td>\n",
              "      <td>0</td>\n",
              "      <td>0</td>\n",
              "      <td>0</td>\n",
              "      <td>0</td>\n",
              "      <td>0</td>\n",
              "      <td>0</td>\n",
              "      <td>0</td>\n",
              "    </tr>\n",
              "    <tr>\n",
              "      <th>8</th>\n",
              "      <td>I love this dress. i usually get an xs but it ...</td>\n",
              "      <td>0</td>\n",
              "      <td>1</td>\n",
              "      <td>0</td>\n",
              "      <td>0</td>\n",
              "      <td>0</td>\n",
              "      <td>0</td>\n",
              "      <td>0</td>\n",
              "      <td>0</td>\n",
              "      <td>0</td>\n",
              "      <td>0</td>\n",
              "      <td>0</td>\n",
              "      <td>0</td>\n",
              "      <td>0</td>\n",
              "      <td>0</td>\n",
              "      <td>0</td>\n",
              "      <td>0</td>\n",
              "      <td>0</td>\n",
              "      <td>0</td>\n",
              "    </tr>\n",
              "    <tr>\n",
              "      <th>9</th>\n",
              "      <td>I'm 5\"5' and 125 lbs. i ordered the s petite t...</td>\n",
              "      <td>0</td>\n",
              "      <td>1</td>\n",
              "      <td>0</td>\n",
              "      <td>0</td>\n",
              "      <td>0</td>\n",
              "      <td>0</td>\n",
              "      <td>0</td>\n",
              "      <td>0</td>\n",
              "      <td>0</td>\n",
              "      <td>0</td>\n",
              "      <td>0</td>\n",
              "      <td>0</td>\n",
              "      <td>0</td>\n",
              "      <td>0</td>\n",
              "      <td>0</td>\n",
              "      <td>0</td>\n",
              "      <td>0</td>\n",
              "      <td>0</td>\n",
              "    </tr>\n",
              "    <tr>\n",
              "      <th>...</th>\n",
              "      <td>...</td>\n",
              "      <td>...</td>\n",
              "      <td>...</td>\n",
              "      <td>...</td>\n",
              "      <td>...</td>\n",
              "      <td>...</td>\n",
              "      <td>...</td>\n",
              "      <td>...</td>\n",
              "      <td>...</td>\n",
              "      <td>...</td>\n",
              "      <td>...</td>\n",
              "      <td>...</td>\n",
              "      <td>...</td>\n",
              "      <td>...</td>\n",
              "      <td>...</td>\n",
              "      <td>...</td>\n",
              "      <td>...</td>\n",
              "      <td>...</td>\n",
              "      <td>...</td>\n",
              "    </tr>\n",
              "    <tr>\n",
              "      <th>2858</th>\n",
              "      <td>Love this dress! paid full price and completel...</td>\n",
              "      <td>0</td>\n",
              "      <td>0</td>\n",
              "      <td>0</td>\n",
              "      <td>0</td>\n",
              "      <td>0</td>\n",
              "      <td>0</td>\n",
              "      <td>0</td>\n",
              "      <td>0</td>\n",
              "      <td>0</td>\n",
              "      <td>0</td>\n",
              "      <td>0</td>\n",
              "      <td>0</td>\n",
              "      <td>0</td>\n",
              "      <td>0</td>\n",
              "      <td>0</td>\n",
              "      <td>0</td>\n",
              "      <td>0</td>\n",
              "      <td>1</td>\n",
              "    </tr>\n",
              "    <tr>\n",
              "      <th>19952</th>\n",
              "      <td>This dress is just lovely. beautiful drape, co...</td>\n",
              "      <td>0</td>\n",
              "      <td>0</td>\n",
              "      <td>0</td>\n",
              "      <td>0</td>\n",
              "      <td>0</td>\n",
              "      <td>0</td>\n",
              "      <td>0</td>\n",
              "      <td>0</td>\n",
              "      <td>0</td>\n",
              "      <td>0</td>\n",
              "      <td>0</td>\n",
              "      <td>0</td>\n",
              "      <td>0</td>\n",
              "      <td>0</td>\n",
              "      <td>0</td>\n",
              "      <td>0</td>\n",
              "      <td>0</td>\n",
              "      <td>1</td>\n",
              "    </tr>\n",
              "    <tr>\n",
              "      <th>23020</th>\n",
              "      <td>I wanted to love this jumpsuit. it looks adora...</td>\n",
              "      <td>0</td>\n",
              "      <td>0</td>\n",
              "      <td>0</td>\n",
              "      <td>0</td>\n",
              "      <td>0</td>\n",
              "      <td>0</td>\n",
              "      <td>0</td>\n",
              "      <td>0</td>\n",
              "      <td>0</td>\n",
              "      <td>0</td>\n",
              "      <td>0</td>\n",
              "      <td>0</td>\n",
              "      <td>0</td>\n",
              "      <td>0</td>\n",
              "      <td>0</td>\n",
              "      <td>0</td>\n",
              "      <td>0</td>\n",
              "      <td>1</td>\n",
              "    </tr>\n",
              "    <tr>\n",
              "      <th>2876</th>\n",
              "      <td>I was so excited to receive this in the mail a...</td>\n",
              "      <td>0</td>\n",
              "      <td>0</td>\n",
              "      <td>0</td>\n",
              "      <td>0</td>\n",
              "      <td>0</td>\n",
              "      <td>0</td>\n",
              "      <td>0</td>\n",
              "      <td>0</td>\n",
              "      <td>0</td>\n",
              "      <td>0</td>\n",
              "      <td>0</td>\n",
              "      <td>0</td>\n",
              "      <td>0</td>\n",
              "      <td>0</td>\n",
              "      <td>0</td>\n",
              "      <td>0</td>\n",
              "      <td>0</td>\n",
              "      <td>1</td>\n",
              "    </tr>\n",
              "    <tr>\n",
              "      <th>15613</th>\n",
              "      <td>This dress is much larger in person than it lo...</td>\n",
              "      <td>0</td>\n",
              "      <td>0</td>\n",
              "      <td>0</td>\n",
              "      <td>0</td>\n",
              "      <td>0</td>\n",
              "      <td>0</td>\n",
              "      <td>0</td>\n",
              "      <td>0</td>\n",
              "      <td>0</td>\n",
              "      <td>0</td>\n",
              "      <td>0</td>\n",
              "      <td>0</td>\n",
              "      <td>0</td>\n",
              "      <td>0</td>\n",
              "      <td>0</td>\n",
              "      <td>0</td>\n",
              "      <td>0</td>\n",
              "      <td>1</td>\n",
              "    </tr>\n",
              "  </tbody>\n",
              "</table>\n",
              "<p>110610 rows × 19 columns</p>\n",
              "</div>"
            ],
            "text/plain": [
              "                                             Review Text  Blouses  ...  Swim  Trend\n",
              "1      Love this dress!  it's sooo pretty.  i happene...        0  ...     0      0\n",
              "2      I had such high hopes for this dress and reall...        0  ...     0      0\n",
              "5      I love tracy reese dresses, but this one is no...        0  ...     0      0\n",
              "8      I love this dress. i usually get an xs but it ...        0  ...     0      0\n",
              "9      I'm 5\"5' and 125 lbs. i ordered the s petite t...        0  ...     0      0\n",
              "...                                                  ...      ...  ...   ...    ...\n",
              "2858   Love this dress! paid full price and completel...        0  ...     0      1\n",
              "19952  This dress is just lovely. beautiful drape, co...        0  ...     0      1\n",
              "23020  I wanted to love this jumpsuit. it looks adora...        0  ...     0      1\n",
              "2876   I was so excited to receive this in the mail a...        0  ...     0      1\n",
              "15613  This dress is much larger in person than it lo...        0  ...     0      1\n",
              "\n",
              "[110610 rows x 19 columns]"
            ]
          },
          "metadata": {
            "tags": []
          },
          "execution_count": 14
        }
      ]
    },
    {
      "cell_type": "code",
      "metadata": {
        "id": "K6gY1yfqAsh4"
      },
      "source": [
        "review_text = df_baru['Review Text'].values\n",
        "label = df_baru[['Blouses', 'Dresses', 'Fine gauge', 'Intimates', 'Jackets', 'Jeans', 'Knits', 'Layering', 'Legwear', 'Lounge', 'Outerwear', 'Pants', 'Shorts', 'Skirts', 'Sleep', 'Sweaters', 'Swim', 'Trend']].values"
      ],
      "execution_count": 15,
      "outputs": []
    },
    {
      "cell_type": "code",
      "metadata": {
        "id": "CRfiEwg7Dj5L"
      },
      "source": [
        "from sklearn.model_selection import train_test_split\n",
        "review_latih, review_test, label_latih, label_test = train_test_split(review_text, label, test_size=0.2)"
      ],
      "execution_count": 16,
      "outputs": []
    },
    {
      "cell_type": "code",
      "metadata": {
        "id": "k2NJ0BBQDtCk"
      },
      "source": [
        "from tensorflow.keras.preprocessing.text import Tokenizer\n",
        "from tensorflow.keras.preprocessing.sequence import pad_sequences\n",
        " \n",
        "tokenizer = Tokenizer(num_words=5000, oov_token='x')\n",
        "tokenizer.fit_on_texts(review_latih) \n",
        "tokenizer.fit_on_texts(review_test)\n",
        " \n",
        "sekuens_latih = tokenizer.texts_to_sequences(review_latih)\n",
        "sekuens_test = tokenizer.texts_to_sequences(review_test)\n",
        " \n",
        "padded_latih = pad_sequences(sekuens_latih) \n",
        "padded_test = pad_sequences(sekuens_test)"
      ],
      "execution_count": 17,
      "outputs": []
    },
    {
      "cell_type": "code",
      "metadata": {
        "id": "HAjgWu7wD8Gw"
      },
      "source": [
        "import tensorflow as tf\n",
        "\n",
        "embedding_dim = 64\n",
        "model = tf.keras.Sequential([\n",
        "    tf.keras.layers.Embedding(5000, embedding_dim),\n",
        "    tf.keras.layers.BatchNormalization(),\n",
        "    tf.keras.layers.LSTM(64),\n",
        "    tf.keras.layers.Dense(128, activation='relu'),\n",
        "    tf.keras.layers.Dropout(0.5),\n",
        "    tf.keras.layers.Dense(64, activation='relu'),\n",
        "    tf.keras.layers.Dropout(0.5),\n",
        "    tf.keras.layers.Dense(18, activation='sigmoid')\n",
        "])\n",
        "model.compile(loss='categorical_crossentropy',optimizer='adam',metrics=['accuracy'])"
      ],
      "execution_count": 18,
      "outputs": []
    },
    {
      "cell_type": "code",
      "metadata": {
        "id": "RPLQ7IbfJmWT"
      },
      "source": [
        "initial_learning_rate = 0.01\n",
        "epochs = 15\n",
        "decay = initial_learning_rate / epochs\n",
        "\n",
        "def lr_time_based_decay(epoch, lr):\n",
        "    return lr * 1 / (1 + decay * epoch)"
      ],
      "execution_count": 19,
      "outputs": []
    },
    {
      "cell_type": "code",
      "metadata": {
        "colab": {
          "base_uri": "https://localhost:8080/"
        },
        "id": "IYBD5N0NEwiT",
        "outputId": "f75c7cf5-ad5c-4cbf-8800-932821964e10"
      },
      "source": [
        "num_epochs = 15\n",
        "history = model.fit(padded_latih, label_latih, epochs=num_epochs, \n",
        "                    validation_data=(padded_test, label_test), callbacks=[tf.keras.callbacks.LearningRateScheduler(lr_time_based_decay, verbose=2)])"
      ],
      "execution_count": 20,
      "outputs": [
        {
          "output_type": "stream",
          "text": [
            "Epoch 1/15\n",
            "\n",
            "Epoch 00001: LearningRateScheduler reducing learning rate to 0.0010000000474974513.\n",
            "2766/2766 [==============================] - 36s 12ms/step - loss: 1.4351 - accuracy: 0.5242 - val_loss: 0.5457 - val_accuracy: 0.8068\n",
            "Epoch 2/15\n",
            "\n",
            "Epoch 00002: LearningRateScheduler reducing learning rate to 0.0009993338249474864.\n",
            "2766/2766 [==============================] - 33s 12ms/step - loss: 0.5117 - accuracy: 0.8171 - val_loss: 0.3488 - val_accuracy: 0.8705\n",
            "Epoch 3/15\n",
            "\n",
            "Epoch 00003: LearningRateScheduler reducing learning rate to 0.000998003131768278.\n",
            "2766/2766 [==============================] - 32s 12ms/step - loss: 0.3375 - accuracy: 0.8764 - val_loss: 0.2655 - val_accuracy: 0.8974\n",
            "Epoch 4/15\n",
            "\n",
            "Epoch 00004: LearningRateScheduler reducing learning rate to 0.0009960111531758023.\n",
            "2766/2766 [==============================] - 33s 12ms/step - loss: 0.2545 - accuracy: 0.9073 - val_loss: 0.2107 - val_accuracy: 0.9265\n",
            "Epoch 5/15\n",
            "\n",
            "Epoch 00005: LearningRateScheduler reducing learning rate to 0.0009933622269717819.\n",
            "2766/2766 [==============================] - 33s 12ms/step - loss: 0.2007 - accuracy: 0.9303 - val_loss: 0.1885 - val_accuracy: 0.9370\n",
            "Epoch 6/15\n",
            "\n",
            "Epoch 00006: LearningRateScheduler reducing learning rate to 0.0009900620717716176.\n",
            "2766/2766 [==============================] - 33s 12ms/step - loss: 0.1653 - accuracy: 0.9457 - val_loss: 0.1814 - val_accuracy: 0.9468\n",
            "Epoch 7/15\n",
            "\n",
            "Epoch 00007: LearningRateScheduler reducing learning rate to 0.0009861175505169835.\n",
            "2766/2766 [==============================] - 33s 12ms/step - loss: 0.1403 - accuracy: 0.9565 - val_loss: 0.1615 - val_accuracy: 0.9558\n",
            "Epoch 8/15\n",
            "\n",
            "Epoch 00008: LearningRateScheduler reducing learning rate to 0.0009815370143028428.\n",
            "2766/2766 [==============================] - 33s 12ms/step - loss: 0.1123 - accuracy: 0.9656 - val_loss: 0.1540 - val_accuracy: 0.9591\n",
            "Epoch 9/15\n",
            "\n",
            "Epoch 00009: LearningRateScheduler reducing learning rate to 0.000976329950050053.\n",
            "2766/2766 [==============================] - 33s 12ms/step - loss: 0.1039 - accuracy: 0.9691 - val_loss: 0.1717 - val_accuracy: 0.9612\n",
            "Epoch 10/15\n",
            "\n",
            "Epoch 00010: LearningRateScheduler reducing learning rate to 0.0009705069188813625.\n",
            "2766/2766 [==============================] - 33s 12ms/step - loss: 0.0900 - accuracy: 0.9745 - val_loss: 0.1530 - val_accuracy: 0.9652\n",
            "Epoch 11/15\n",
            "\n",
            "Epoch 00011: LearningRateScheduler reducing learning rate to 0.0009640797260309884.\n",
            "2766/2766 [==============================] - 33s 12ms/step - loss: 0.0831 - accuracy: 0.9771 - val_loss: 0.1555 - val_accuracy: 0.9653\n",
            "Epoch 12/15\n",
            "\n",
            "Epoch 00012: LearningRateScheduler reducing learning rate to 0.0009570613011599454.\n",
            "2766/2766 [==============================] - 33s 12ms/step - loss: 0.0658 - accuracy: 0.9807 - val_loss: 0.1571 - val_accuracy: 0.9668\n",
            "Epoch 13/15\n",
            "\n",
            "Epoch 00013: LearningRateScheduler reducing learning rate to 0.0009494655791463123.\n",
            "2766/2766 [==============================] - 33s 12ms/step - loss: 0.0670 - accuracy: 0.9810 - val_loss: 0.1685 - val_accuracy: 0.9666\n",
            "Epoch 14/15\n",
            "\n",
            "Epoch 00014: LearningRateScheduler reducing learning rate to 0.0009413075544708271.\n",
            "2766/2766 [==============================] - 33s 12ms/step - loss: 0.0569 - accuracy: 0.9844 - val_loss: 0.1721 - val_accuracy: 0.9702\n",
            "Epoch 15/15\n",
            "\n",
            "Epoch 00015: LearningRateScheduler reducing learning rate to 0.0009326032777175385.\n",
            "2766/2766 [==============================] - 33s 12ms/step - loss: 0.0551 - accuracy: 0.9851 - val_loss: 0.1858 - val_accuracy: 0.9680\n"
          ],
          "name": "stdout"
        }
      ]
    },
    {
      "cell_type": "code",
      "metadata": {
        "colab": {
          "base_uri": "https://localhost:8080/",
          "height": 336
        },
        "id": "FhutWuaqHdxd",
        "outputId": "561baaaf-d82f-4d1f-e758-8f4791efdbb1"
      },
      "source": [
        "import matplotlib.pyplot as plt\n",
        "\n",
        "acc = history.history['accuracy']\n",
        "val_acc = history.history['val_accuracy']\n",
        "loss = history.history['loss']\n",
        "val_loss = history.history['val_loss']\n",
        "epochs_range = range(len(acc))\n",
        "\n",
        "plt.figure(figsize=(13, 5))\n",
        "plt.subplot(1, 2, 1)\n",
        "plt.plot(epochs_range, acc, label='Training Accuracy')\n",
        "plt.plot(epochs_range, val_acc, label='Validation Accuracy')\n",
        "plt.legend(loc='lower right')\n",
        "plt.title('Accuracy')\n",
        "\n",
        "plt.subplot(1, 2, 2)\n",
        "plt.plot(epochs_range, loss, label='Training Loss')\n",
        "plt.plot(epochs_range, val_loss, label='Validation Loss')\n",
        "plt.legend(loc='upper right')\n",
        "plt.title('Loss')\n",
        "plt.show()"
      ],
      "execution_count": 21,
      "outputs": [
        {
          "output_type": "display_data",
          "data": {
            "image/png": "[encoded data removed]",
            "text/plain": [
              "<Figure size 936x360 with 2 Axes>"
            ]
          },
          "metadata": {
            "tags": [],
            "needs_background": "light"
          }
        }
      ]
    }
  ]
}